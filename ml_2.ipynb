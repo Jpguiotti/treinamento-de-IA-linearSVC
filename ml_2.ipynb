{
 "cells": [
  {
   "cell_type": "code",
   "execution_count": 18,
   "metadata": {},
   "outputs": [],
   "source": [
    "import pandas as pd\n",
    "from sklearn.model_selection import train_test_split\n",
    "from sklearn.ensemble import RandomForestClassifier\n",
    "from sklearn.metrics import accuracy_score"
   ]
  },
  {
   "cell_type": "code",
   "execution_count": 19,
   "metadata": {},
   "outputs": [],
   "source": [
    "df = pd.read_csv('datasets/tracking.csv')\n"
   ]
  },
  {
   "cell_type": "code",
   "execution_count": 20,
   "metadata": {},
   "outputs": [
    {
     "data": {
      "text/html": [
       "<div>\n",
       "<style scoped>\n",
       "    .dataframe tbody tr th:only-of-type {\n",
       "        vertical-align: middle;\n",
       "    }\n",
       "\n",
       "    .dataframe tbody tr th {\n",
       "        vertical-align: top;\n",
       "    }\n",
       "\n",
       "    .dataframe thead th {\n",
       "        text-align: right;\n",
       "    }\n",
       "</style>\n",
       "<table border=\"1\" class=\"dataframe\">\n",
       "  <thead>\n",
       "    <tr style=\"text-align: right;\">\n",
       "      <th></th>\n",
       "      <th>inicial</th>\n",
       "      <th>palestras</th>\n",
       "      <th>contato</th>\n",
       "      <th>comprou</th>\n",
       "      <th>patrocinio</th>\n",
       "    </tr>\n",
       "  </thead>\n",
       "  <tbody>\n",
       "    <tr>\n",
       "      <th>0</th>\n",
       "      <td>1</td>\n",
       "      <td>1</td>\n",
       "      <td>0</td>\n",
       "      <td>0</td>\n",
       "      <td>0</td>\n",
       "    </tr>\n",
       "    <tr>\n",
       "      <th>1</th>\n",
       "      <td>1</td>\n",
       "      <td>1</td>\n",
       "      <td>0</td>\n",
       "      <td>0</td>\n",
       "      <td>0</td>\n",
       "    </tr>\n",
       "    <tr>\n",
       "      <th>2</th>\n",
       "      <td>1</td>\n",
       "      <td>1</td>\n",
       "      <td>0</td>\n",
       "      <td>0</td>\n",
       "      <td>0</td>\n",
       "    </tr>\n",
       "    <tr>\n",
       "      <th>3</th>\n",
       "      <td>1</td>\n",
       "      <td>1</td>\n",
       "      <td>0</td>\n",
       "      <td>0</td>\n",
       "      <td>0</td>\n",
       "    </tr>\n",
       "    <tr>\n",
       "      <th>4</th>\n",
       "      <td>1</td>\n",
       "      <td>1</td>\n",
       "      <td>0</td>\n",
       "      <td>0</td>\n",
       "      <td>0</td>\n",
       "    </tr>\n",
       "    <tr>\n",
       "      <th>...</th>\n",
       "      <td>...</td>\n",
       "      <td>...</td>\n",
       "      <td>...</td>\n",
       "      <td>...</td>\n",
       "      <td>...</td>\n",
       "    </tr>\n",
       "    <tr>\n",
       "      <th>94</th>\n",
       "      <td>0</td>\n",
       "      <td>0</td>\n",
       "      <td>1</td>\n",
       "      <td>0</td>\n",
       "      <td>0</td>\n",
       "    </tr>\n",
       "    <tr>\n",
       "      <th>95</th>\n",
       "      <td>1</td>\n",
       "      <td>1</td>\n",
       "      <td>1</td>\n",
       "      <td>1</td>\n",
       "      <td>0</td>\n",
       "    </tr>\n",
       "    <tr>\n",
       "      <th>96</th>\n",
       "      <td>0</td>\n",
       "      <td>0</td>\n",
       "      <td>1</td>\n",
       "      <td>0</td>\n",
       "      <td>0</td>\n",
       "    </tr>\n",
       "    <tr>\n",
       "      <th>97</th>\n",
       "      <td>0</td>\n",
       "      <td>1</td>\n",
       "      <td>0</td>\n",
       "      <td>0</td>\n",
       "      <td>0</td>\n",
       "    </tr>\n",
       "    <tr>\n",
       "      <th>98</th>\n",
       "      <td>0</td>\n",
       "      <td>0</td>\n",
       "      <td>0</td>\n",
       "      <td>0</td>\n",
       "      <td>0</td>\n",
       "    </tr>\n",
       "  </tbody>\n",
       "</table>\n",
       "<p>99 rows × 5 columns</p>\n",
       "</div>"
      ],
      "text/plain": [
       "    inicial  palestras  contato  comprou  patrocinio\n",
       "0         1          1        0        0           0\n",
       "1         1          1        0        0           0\n",
       "2         1          1        0        0           0\n",
       "3         1          1        0        0           0\n",
       "4         1          1        0        0           0\n",
       "..      ...        ...      ...      ...         ...\n",
       "94        0          0        1        0           0\n",
       "95        1          1        1        1           0\n",
       "96        0          0        1        0           0\n",
       "97        0          1        0        0           0\n",
       "98        0          0        0        0           0\n",
       "\n",
       "[99 rows x 5 columns]"
      ]
     },
     "execution_count": 20,
     "metadata": {},
     "output_type": "execute_result"
    }
   ],
   "source": [
    "df"
   ]
  },
  {
   "cell_type": "code",
   "execution_count": 21,
   "metadata": {},
   "outputs": [
    {
     "name": "stdout",
     "output_type": "stream",
     "text": [
      "<class 'pandas.core.frame.DataFrame'>\n",
      "RangeIndex: 99 entries, 0 to 98\n",
      "Data columns (total 5 columns):\n",
      " #   Column      Non-Null Count  Dtype\n",
      "---  ------      --------------  -----\n",
      " 0   inicial     99 non-null     int64\n",
      " 1   palestras   99 non-null     int64\n",
      " 2   contato     99 non-null     int64\n",
      " 3   comprou     99 non-null     int64\n",
      " 4   patrocinio  99 non-null     int64\n",
      "dtypes: int64(5)\n",
      "memory usage: 4.0 KB\n"
     ]
    }
   ],
   "source": [
    "df.info()"
   ]
  },
  {
   "cell_type": "code",
   "execution_count": 43,
   "metadata": {},
   "outputs": [],
   "source": [
    "X = df[['inicial', 'palestras', 'patrocinio','contato']]\n",
    "# variavel alvo \n",
    "y = df['comprou']"
   ]
  },
  {
   "cell_type": "code",
   "execution_count": 44,
   "metadata": {},
   "outputs": [],
   "source": [
    "from sklearn.svm import LinearSVC\n",
    "\n",
    "modelo = LinearSVC()"
   ]
  },
  {
   "cell_type": "code",
   "execution_count": 45,
   "metadata": {},
   "outputs": [],
   "source": [
    "X_train, X_test, y_train, y_test = train_test_split(X, y, test_size=0.2, random_state=42)\n",
    "\n",
    "model = RandomForestClassifier()\n",
    "model.fit(X_train, y_train)\n",
    "y_pred = model.predict(X_test)\n",
    "\n",
    "accuracy = accuracy_score(y_test, y_pred)\n"
   ]
  },
  {
   "cell_type": "code",
   "execution_count": 47,
   "metadata": {},
   "outputs": [
    {
     "name": "stdout",
     "output_type": "stream",
     "text": [
      "Classificações: [0 0 1 0 0 1 1 0 0 0 1 0 1 1 0 0 0 0 0 0]\n",
      "Acurácia do modelo: 0.95\n"
     ]
    }
   ],
   "source": [
    "print(\"Classificações:\", y_pred)\n",
    "print(\"Acurácia do modelo:\", accuracy)"
   ]
  },
  {
   "cell_type": "code",
   "execution_count": 48,
   "metadata": {},
   "outputs": [
    {
     "data": {
      "text/plain": [
       "(99, 5)"
      ]
     },
     "execution_count": 48,
     "metadata": {},
     "output_type": "execute_result"
    }
   ],
   "source": [
    "df.shape"
   ]
  },
  {
   "cell_type": "code",
   "execution_count": 27,
   "metadata": {},
   "outputs": [],
   "source": [
    "from sklearn.model_selection import train_test_split\n",
    "from sklearn.ensemble import RandomForestClassifier\n",
    "from sklearn.metrics import accuracy_score"
   ]
  },
  {
   "cell_type": "code",
   "execution_count": 28,
   "metadata": {},
   "outputs": [
    {
     "name": "stdout",
     "output_type": "stream",
     "text": [
      "Acurácia do modelo: 0.85\n"
     ]
    }
   ],
   "source": [
    "class Train:\n",
    "    \"\"\"\n",
    "    Represents the training data and model fitting process.\n",
    "    \"\"\"\n",
    "\n",
    "    def __init__(self, X, y, test_size=0.2, random_state=42):\n",
    "        \"\"\"\n",
    "        Initializes the Train object with data and parameters for splitting.\n",
    "\n",
    "        Args:\n",
    "            X (pandas.DataFrame): Features (independent variables).\n",
    "            y (pandas.Series): Target variable (dependent variable).\n",
    "            test_size (float, optional): Proportion of data to allocate for testing. Defaults to 0.2.\n",
    "            random_state (int, optional): Seed for random shuffling. Defaults to 42.\n",
    "        \"\"\"\n",
    "\n",
    "        self.X = X\n",
    "        self.y = y\n",
    "        self.test_size = test_size\n",
    "        self.random_state = random_state\n",
    "\n",
    "        self.X_train, self.X_test, self.y_train, self.y_test = self._split_data()\n",
    "\n",
    "    def _split_data(self):\n",
    "        \"\"\"\n",
    "        Splits the data into training and testing sets.\n",
    "\n",
    "        Returns:\n",
    "            tuple: (X_train, X_test, y_train, y_test) - Split data sets.\n",
    "        \"\"\"\n",
    "\n",
    "        return train_test_split(self.X, self.y, test_size=self.test_size, random_state=self.random_state)\n",
    "\n",
    "    def fit_model(self, model):\n",
    "        \"\"\"\n",
    "        Fits the provided model to the training data.\n",
    "\n",
    "        Args:\n",
    "            model (object): Machine learning model to be trained.\n",
    "        \"\"\"\n",
    "\n",
    "        self.model = model\n",
    "        self.model.fit(self.X_train, self.y_train)\n",
    "\n",
    "\n",
    "class Test:\n",
    "\n",
    "    def __init__(self, train_object):\n",
    "\n",
    "        self.X_test = train_object.X_test\n",
    "        self.y_test = train_object.y_test\n",
    "        self.model = train_object.model\n",
    "\n",
    "    def predict(self):\n",
    "\n",
    "        self.y_pred = self.model.predict(self.X_test)\n",
    "        return self.y_pred\n",
    "\n",
    "    def evaluate(self, metric=accuracy_score):\n",
    "        return metric(self.y_test, self.predict())\n",
    "\n",
    "    def print_accuracy(self):\n",
    "        accuracy = self.evaluate()\n",
    "        print(f\"Acurácia do modelo: {accuracy:.2f}\")  # Format accuracy to two decimal places\n",
    "\n",
    "\n",
    "X = df[['inicial', 'palestras', 'patrocinio']]\n",
    "y = df['comprou']\n",
    "\n",
    "train = Train(X, y)  # Create a Train object\n",
    "train.fit_model(RandomForestClassifier())  # Fit a RandomForestClassifier\n",
    "\n",
    "test = Test(train)  # Create a Test object using the trained Train object\n",
    "\n",
    "\n",
    "test.print_accuracy()"
   ]
  }
 ],
 "metadata": {
  "kernelspec": {
   "display_name": ".venv",
   "language": "python",
   "name": "python3"
  },
  "language_info": {
   "codemirror_mode": {
    "name": "ipython",
    "version": 3
   },
   "file_extension": ".py",
   "mimetype": "text/x-python",
   "name": "python",
   "nbconvert_exporter": "python",
   "pygments_lexer": "ipython3",
   "version": "3.12.6"
  }
 },
 "nbformat": 4,
 "nbformat_minor": 2
}
